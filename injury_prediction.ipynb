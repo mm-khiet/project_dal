{
 "cells": [
  {
   "cell_type": "markdown",
   "metadata": {},
   "source": [
    "# <div align=\"center\">Predict Car Traffic Injury</div>\n",
    "\n",
    "ggg"
   ]
  },
  {
   "cell_type": "markdown",
   "metadata": {},
   "source": [
    "In this document we follow the CRISP-DM process and methodolgies...\n"
   ]
  },
  {
   "cell_type": "markdown",
   "metadata": {},
   "source": [
    "# 1. CRISP-DM: Business Understanding\n",
    "\n",
    "bla bla bla"
   ]
  },
  {
   "cell_type": "markdown",
   "metadata": {},
   "source": [
    "# 2. CRISP-DM: Data Understanding\n",
    "\n",
    "bla bla bla"
   ]
  },
  {
   "cell_type": "markdown",
   "metadata": {},
   "source": [
    "## 2.1. Collect Initial Data\n",
    "\n",
    "\n",
    "This a generic intial step, to start working on the data:<br>\n",
    "2.1.1. Import the relevant Python packages that are going to be used.<br>\n",
    "2.1.2. Download the datatset and load it.<br>\n"
   ]
  },
  {
   "cell_type": "code",
   "execution_count": null,
   "metadata": {},
   "outputs": [],
   "source": [
    "# 2.1.1. Import the relevant Python packages that are going to be used\n",
    "\n",
    "import pandas as pd\n",
    "import seaborn as sns\n",
    "import matplotlib.pyplot as plt\n"
   ]
  },
  {
   "cell_type": "code",
   "execution_count": null,
   "metadata": {},
   "outputs": [],
   "source": [
    "# 2.1.2. Download the datatset and load it\n",
    "\n",
    "# A generic utilies file with generic functionallity\n",
    "from misc.utilities import acquire_dataset\n",
    "\n",
    "# Download & load the dataset\n",
    "# If the file already downloaded, it will not be re-downloaded (to speed up work efficiency)\n",
    "df = acquire_dataset()\n",
    "df"
   ]
  },
  {
   "cell_type": "markdown",
   "metadata": {},
   "source": [
    "The data acquired from: https://catalog.data.gov/dataset/traffic-crashes-crashes"
   ]
  },
  {
   "cell_type": "markdown",
   "metadata": {},
   "source": [
    "## 2.2. Data Description\n",
    "\n",
    "In this phase we investigate the following aspects:<br>\n",
    "2.2.1. Shape of the Dataset.<br>\n",
    "2.2.2. Head snippet.<br>\n",
    "2.2.3. Dataset info.<br>\n",
    "2.2.4. Continuous Features Tabular Report.<br>\n",
    "2.2.5. Categorical Features Tabular Report.<br>\n",
    "2.2.6. Missing Values Summary.<br>\n",
    "2.2.7. Correlation insights.<br>\n"
   ]
  },
  {
   "cell_type": "code",
   "execution_count": 49,
   "metadata": {},
   "outputs": [
    {
     "data": {
      "text/html": [
       "<div>\n",
       "<style scoped>\n",
       "    .dataframe tbody tr th:only-of-type {\n",
       "        vertical-align: middle;\n",
       "    }\n",
       "\n",
       "    .dataframe tbody tr th {\n",
       "        vertical-align: top;\n",
       "    }\n",
       "\n",
       "    .dataframe thead th {\n",
       "        text-align: right;\n",
       "    }\n",
       "</style>\n",
       "<table border=\"1\" class=\"dataframe\">\n",
       "  <thead>\n",
       "    <tr style=\"text-align: right;\">\n",
       "      <th></th>\n",
       "      <th>Aspect</th>\n",
       "      <th>Number</th>\n",
       "    </tr>\n",
       "  </thead>\n",
       "  <tbody>\n",
       "    <tr>\n",
       "      <th>0</th>\n",
       "      <td>Records (Instances)</td>\n",
       "      <td>814788</td>\n",
       "    </tr>\n",
       "    <tr>\n",
       "      <th>1</th>\n",
       "      <td>Features (Columns)</td>\n",
       "      <td>48</td>\n",
       "    </tr>\n",
       "  </tbody>\n",
       "</table>\n",
       "</div>"
      ],
      "text/plain": [
       "                Aspect  Number\n",
       "0  Records (Instances)  814788\n",
       "1   Features (Columns)      48"
      ]
     },
     "execution_count": 49,
     "metadata": {},
     "output_type": "execute_result"
    }
   ],
   "source": [
    "# 2.2.1. Shape of the Dataset.\n",
    "\n",
    "# Create a new DataFrame to display the shape information\n",
    "shape_df = pd.DataFrame({\n",
    "    'Aspect': ['Records (Instances)', 'Features (Columns)'],\n",
    "    'Number': [df.shape[0], df.shape[1]]\n",
    "})\n",
    "\n",
    "# Display the DataFrame\n",
    "shape_df\n"
   ]
  },
  {
   "cell_type": "code",
   "execution_count": null,
   "metadata": {},
   "outputs": [],
   "source": [
    "# 2.2.2. Head snippet\n",
    "df.head()\n"
   ]
  },
  {
   "cell_type": "code",
   "execution_count": null,
   "metadata": {},
   "outputs": [],
   "source": [
    "# 2.2.3. Dataset info\n",
    "df.info()\n"
   ]
  },
  {
   "cell_type": "code",
   "execution_count": null,
   "metadata": {},
   "outputs": [],
   "source": [
    "# 2.2.4. Continuous Features Tabular Report\n",
    "continuous_features_df = df.describe(include=['number'])\n",
    "continuous_features_transpose_df = continuous_features_df.transpose()\n",
    "continuous_features_transpose_df\n"
   ]
  },
  {
   "cell_type": "code",
   "execution_count": null,
   "metadata": {},
   "outputs": [],
   "source": [
    "# 2.2.5. Categorical Features Tabular Report\n",
    "categorical_features_df = df.describe(exclude=['number'])\n",
    "categorical_features_transpose_df = categorical_features_df.transpose()\n",
    "categorical_features_transpose_df"
   ]
  },
  {
   "cell_type": "code",
   "execution_count": null,
   "metadata": {},
   "outputs": [],
   "source": [
    "# 2.2.6. Missing Values Summary\n",
    "\n",
    "# Calculate the sum of null values per column\n",
    "null_counts = df.isnull().sum()\n",
    "\n",
    "# Convert the Series to DataFrame for table-like display\n",
    "null_counts_df = null_counts.reset_index()\n",
    "null_counts_df.columns = ['Column', 'Missing Values']\n",
    "\n",
    "# Print the result as pandas dataframe format (table)\n",
    "null_counts_df"
   ]
  },
  {
   "cell_type": "code",
   "execution_count": null,
   "metadata": {},
   "outputs": [],
   "source": [
    "# 2.2.7. Correlation insights\n",
    "\n",
    "# # Get the relevant columns\n",
    "subset_df = df[continuous_features_df.columns]\n",
    "\n",
    "# Calculate the correlation matrix\n",
    "correlation_matrix = subset_df.corr()\n",
    "\n",
    "# Create a heatmap using seaborn\n",
    "plt.figure(figsize=(16, 14))\n",
    "sns.heatmap(correlation_matrix, cmap='coolwarm', annot=True, fmt=\".2f\", linewidths=0.8)"
   ]
  },
  {
   "cell_type": "code",
   "execution_count": null,
   "metadata": {},
   "outputs": [],
   "source": [
    "\n",
    "\n",
    "IRREGULAR_CARD_SINGLE = 1\n",
    "unique_counts = df.nunique()\n",
    "# for feature_name, count in unique_counts.items():\n",
    "#     if count == 1:\n",
    "#         print(f\"The feature '{feature_name}' has a unique count of 1 - Irregular Cardinality Issue\")\n",
    "unique_counts_single_threshold = unique_counts[unique_counts == IRREGULAR_CARD_SINGLE]\n",
    "pd.DataFrame(unique_counts_single_threshold)"
   ]
  },
  {
   "cell_type": "code",
   "execution_count": null,
   "metadata": {},
   "outputs": [],
   "source": [
    "# Check for duplicate rows\n",
    "duplicates = df.duplicated()\n",
    "\n",
    "# Count the number of duplicate rows\n",
    "num_duplicates = duplicates.sum()\n",
    "\n",
    "print(f\"There are {num_duplicates} duplicated instances in the DataFrame.\")\n"
   ]
  },
  {
   "cell_type": "markdown",
   "metadata": {},
   "source": [
    "## 2.3. Explore the Data\n",
    "\n",
    "1. Basic Statistics - For numeric models, to calculate Mean, Median, mode, ... <br>\n",
    "2. Tabular Report - For Continuos and Categorical Features (Refer to HTML Reports please). <br>\n",
    "3. Correlations + Heat Map\n"
   ]
  },
  {
   "cell_type": "markdown",
   "metadata": {},
   "source": [
    "## 2.4. Verify Data Quality\n",
    "\n",
    "1. Completnesss \n",
    "2. Consistency\n",
    "3. Irregular cardinality\n"
   ]
  },
  {
   "cell_type": "code",
   "execution_count": 39,
   "metadata": {},
   "outputs": [
    {
     "data": {
      "text/html": [
       "<div>\n",
       "<style scoped>\n",
       "    .dataframe tbody tr th:only-of-type {\n",
       "        vertical-align: middle;\n",
       "    }\n",
       "\n",
       "    .dataframe tbody tr th {\n",
       "        vertical-align: top;\n",
       "    }\n",
       "\n",
       "    .dataframe thead th {\n",
       "        text-align: right;\n",
       "    }\n",
       "</style>\n",
       "<table border=\"1\" class=\"dataframe\">\n",
       "  <thead>\n",
       "    <tr style=\"text-align: right;\">\n",
       "      <th></th>\n",
       "      <th>Missing Values</th>\n",
       "      <th>Missing Percentage</th>\n",
       "    </tr>\n",
       "  </thead>\n",
       "  <tbody>\n",
       "    <tr>\n",
       "      <th>WORKERS_PRESENT_I</th>\n",
       "      <td>813598</td>\n",
       "      <td>99.853950</td>\n",
       "    </tr>\n",
       "    <tr>\n",
       "      <th>DOORING_I</th>\n",
       "      <td>812286</td>\n",
       "      <td>99.692926</td>\n",
       "    </tr>\n",
       "    <tr>\n",
       "      <th>WORK_ZONE_TYPE</th>\n",
       "      <td>811179</td>\n",
       "      <td>99.557063</td>\n",
       "    </tr>\n",
       "    <tr>\n",
       "      <th>WORK_ZONE_I</th>\n",
       "      <td>810132</td>\n",
       "      <td>99.428563</td>\n",
       "    </tr>\n",
       "    <tr>\n",
       "      <th>PHOTOS_TAKEN_I</th>\n",
       "      <td>804078</td>\n",
       "      <td>98.685548</td>\n",
       "    </tr>\n",
       "    <tr>\n",
       "      <th>STATEMENTS_TAKEN_I</th>\n",
       "      <td>796617</td>\n",
       "      <td>97.769849</td>\n",
       "    </tr>\n",
       "    <tr>\n",
       "      <th>NOT_RIGHT_OF_WAY_I</th>\n",
       "      <td>777203</td>\n",
       "      <td>95.387144</td>\n",
       "    </tr>\n",
       "    <tr>\n",
       "      <th>CRASH_DATE_EST_I</th>\n",
       "      <td>753867</td>\n",
       "      <td>92.523086</td>\n",
       "    </tr>\n",
       "    <tr>\n",
       "      <th>INTERSECTION_RELATED_I</th>\n",
       "      <td>627867</td>\n",
       "      <td>77.058940</td>\n",
       "    </tr>\n",
       "    <tr>\n",
       "      <th>LANE_CNT</th>\n",
       "      <td>615780</td>\n",
       "      <td>75.575487</td>\n",
       "    </tr>\n",
       "    <tr>\n",
       "      <th>HIT_AND_RUN_I</th>\n",
       "      <td>559815</td>\n",
       "      <td>68.706829</td>\n",
       "    </tr>\n",
       "    <tr>\n",
       "      <th>REPORT_TYPE</th>\n",
       "      <td>24166</td>\n",
       "      <td>2.965925</td>\n",
       "    </tr>\n",
       "    <tr>\n",
       "      <th>LOCATION</th>\n",
       "      <td>5588</td>\n",
       "      <td>0.685823</td>\n",
       "    </tr>\n",
       "    <tr>\n",
       "      <th>LATITUDE</th>\n",
       "      <td>5588</td>\n",
       "      <td>0.685823</td>\n",
       "    </tr>\n",
       "    <tr>\n",
       "      <th>LONGITUDE</th>\n",
       "      <td>5588</td>\n",
       "      <td>0.685823</td>\n",
       "    </tr>\n",
       "    <tr>\n",
       "      <th>MOST_SEVERE_INJURY</th>\n",
       "      <td>1788</td>\n",
       "      <td>0.219444</td>\n",
       "    </tr>\n",
       "    <tr>\n",
       "      <th>INJURIES_UNKNOWN</th>\n",
       "      <td>1776</td>\n",
       "      <td>0.217971</td>\n",
       "    </tr>\n",
       "    <tr>\n",
       "      <th>INJURIES_REPORTED_NOT_EVIDENT</th>\n",
       "      <td>1776</td>\n",
       "      <td>0.217971</td>\n",
       "    </tr>\n",
       "    <tr>\n",
       "      <th>INJURIES_INCAPACITATING</th>\n",
       "      <td>1776</td>\n",
       "      <td>0.217971</td>\n",
       "    </tr>\n",
       "    <tr>\n",
       "      <th>INJURIES_NO_INDICATION</th>\n",
       "      <td>1776</td>\n",
       "      <td>0.217971</td>\n",
       "    </tr>\n",
       "    <tr>\n",
       "      <th>INJURIES_NON_INCAPACITATING</th>\n",
       "      <td>1776</td>\n",
       "      <td>0.217971</td>\n",
       "    </tr>\n",
       "    <tr>\n",
       "      <th>INJURIES_FATAL</th>\n",
       "      <td>1776</td>\n",
       "      <td>0.217971</td>\n",
       "    </tr>\n",
       "    <tr>\n",
       "      <th>INJURIES_TOTAL</th>\n",
       "      <td>1776</td>\n",
       "      <td>0.217971</td>\n",
       "    </tr>\n",
       "    <tr>\n",
       "      <th>BEAT_OF_OCCURRENCE</th>\n",
       "      <td>5</td>\n",
       "      <td>0.000614</td>\n",
       "    </tr>\n",
       "    <tr>\n",
       "      <th>STREET_DIRECTION</th>\n",
       "      <td>4</td>\n",
       "      <td>0.000491</td>\n",
       "    </tr>\n",
       "    <tr>\n",
       "      <th>STREET_NAME</th>\n",
       "      <td>1</td>\n",
       "      <td>0.000123</td>\n",
       "    </tr>\n",
       "    <tr>\n",
       "      <th>POSTED_SPEED_LIMIT</th>\n",
       "      <td>0</td>\n",
       "      <td>0.000000</td>\n",
       "    </tr>\n",
       "    <tr>\n",
       "      <th>TRAFFIC_CONTROL_DEVICE</th>\n",
       "      <td>0</td>\n",
       "      <td>0.000000</td>\n",
       "    </tr>\n",
       "    <tr>\n",
       "      <th>CRASH_RECORD_ID</th>\n",
       "      <td>0</td>\n",
       "      <td>0.000000</td>\n",
       "    </tr>\n",
       "    <tr>\n",
       "      <th>CRASH_DATE</th>\n",
       "      <td>0</td>\n",
       "      <td>0.000000</td>\n",
       "    </tr>\n",
       "    <tr>\n",
       "      <th>DEVICE_CONDITION</th>\n",
       "      <td>0</td>\n",
       "      <td>0.000000</td>\n",
       "    </tr>\n",
       "    <tr>\n",
       "      <th>LIGHTING_CONDITION</th>\n",
       "      <td>0</td>\n",
       "      <td>0.000000</td>\n",
       "    </tr>\n",
       "    <tr>\n",
       "      <th>CRASH_TYPE</th>\n",
       "      <td>0</td>\n",
       "      <td>0.000000</td>\n",
       "    </tr>\n",
       "    <tr>\n",
       "      <th>ROAD_DEFECT</th>\n",
       "      <td>0</td>\n",
       "      <td>0.000000</td>\n",
       "    </tr>\n",
       "    <tr>\n",
       "      <th>ROADWAY_SURFACE_COND</th>\n",
       "      <td>0</td>\n",
       "      <td>0.000000</td>\n",
       "    </tr>\n",
       "    <tr>\n",
       "      <th>ALIGNMENT</th>\n",
       "      <td>0</td>\n",
       "      <td>0.000000</td>\n",
       "    </tr>\n",
       "    <tr>\n",
       "      <th>FIRST_CRASH_TYPE</th>\n",
       "      <td>0</td>\n",
       "      <td>0.000000</td>\n",
       "    </tr>\n",
       "    <tr>\n",
       "      <th>TRAFFICWAY_TYPE</th>\n",
       "      <td>0</td>\n",
       "      <td>0.000000</td>\n",
       "    </tr>\n",
       "    <tr>\n",
       "      <th>WEATHER_CONDITION</th>\n",
       "      <td>0</td>\n",
       "      <td>0.000000</td>\n",
       "    </tr>\n",
       "    <tr>\n",
       "      <th>STREET_NO</th>\n",
       "      <td>0</td>\n",
       "      <td>0.000000</td>\n",
       "    </tr>\n",
       "    <tr>\n",
       "      <th>DATE_POLICE_NOTIFIED</th>\n",
       "      <td>0</td>\n",
       "      <td>0.000000</td>\n",
       "    </tr>\n",
       "    <tr>\n",
       "      <th>PRIM_CONTRIBUTORY_CAUSE</th>\n",
       "      <td>0</td>\n",
       "      <td>0.000000</td>\n",
       "    </tr>\n",
       "    <tr>\n",
       "      <th>SEC_CONTRIBUTORY_CAUSE</th>\n",
       "      <td>0</td>\n",
       "      <td>0.000000</td>\n",
       "    </tr>\n",
       "    <tr>\n",
       "      <th>DAMAGE</th>\n",
       "      <td>0</td>\n",
       "      <td>0.000000</td>\n",
       "    </tr>\n",
       "    <tr>\n",
       "      <th>NUM_UNITS</th>\n",
       "      <td>0</td>\n",
       "      <td>0.000000</td>\n",
       "    </tr>\n",
       "    <tr>\n",
       "      <th>CRASH_HOUR</th>\n",
       "      <td>0</td>\n",
       "      <td>0.000000</td>\n",
       "    </tr>\n",
       "    <tr>\n",
       "      <th>CRASH_DAY_OF_WEEK</th>\n",
       "      <td>0</td>\n",
       "      <td>0.000000</td>\n",
       "    </tr>\n",
       "    <tr>\n",
       "      <th>CRASH_MONTH</th>\n",
       "      <td>0</td>\n",
       "      <td>0.000000</td>\n",
       "    </tr>\n",
       "  </tbody>\n",
       "</table>\n",
       "</div>"
      ],
      "text/plain": [
       "                               Missing Values  Missing Percentage\n",
       "WORKERS_PRESENT_I                      813598           99.853950\n",
       "DOORING_I                              812286           99.692926\n",
       "WORK_ZONE_TYPE                         811179           99.557063\n",
       "WORK_ZONE_I                            810132           99.428563\n",
       "PHOTOS_TAKEN_I                         804078           98.685548\n",
       "STATEMENTS_TAKEN_I                     796617           97.769849\n",
       "NOT_RIGHT_OF_WAY_I                     777203           95.387144\n",
       "CRASH_DATE_EST_I                       753867           92.523086\n",
       "INTERSECTION_RELATED_I                 627867           77.058940\n",
       "LANE_CNT                               615780           75.575487\n",
       "HIT_AND_RUN_I                          559815           68.706829\n",
       "REPORT_TYPE                             24166            2.965925\n",
       "LOCATION                                 5588            0.685823\n",
       "LATITUDE                                 5588            0.685823\n",
       "LONGITUDE                                5588            0.685823\n",
       "MOST_SEVERE_INJURY                       1788            0.219444\n",
       "INJURIES_UNKNOWN                         1776            0.217971\n",
       "INJURIES_REPORTED_NOT_EVIDENT            1776            0.217971\n",
       "INJURIES_INCAPACITATING                  1776            0.217971\n",
       "INJURIES_NO_INDICATION                   1776            0.217971\n",
       "INJURIES_NON_INCAPACITATING              1776            0.217971\n",
       "INJURIES_FATAL                           1776            0.217971\n",
       "INJURIES_TOTAL                           1776            0.217971\n",
       "BEAT_OF_OCCURRENCE                          5            0.000614\n",
       "STREET_DIRECTION                            4            0.000491\n",
       "STREET_NAME                                 1            0.000123\n",
       "POSTED_SPEED_LIMIT                          0            0.000000\n",
       "TRAFFIC_CONTROL_DEVICE                      0            0.000000\n",
       "CRASH_RECORD_ID                             0            0.000000\n",
       "CRASH_DATE                                  0            0.000000\n",
       "DEVICE_CONDITION                            0            0.000000\n",
       "LIGHTING_CONDITION                          0            0.000000\n",
       "CRASH_TYPE                                  0            0.000000\n",
       "ROAD_DEFECT                                 0            0.000000\n",
       "ROADWAY_SURFACE_COND                        0            0.000000\n",
       "ALIGNMENT                                   0            0.000000\n",
       "FIRST_CRASH_TYPE                            0            0.000000\n",
       "TRAFFICWAY_TYPE                             0            0.000000\n",
       "WEATHER_CONDITION                           0            0.000000\n",
       "STREET_NO                                   0            0.000000\n",
       "DATE_POLICE_NOTIFIED                        0            0.000000\n",
       "PRIM_CONTRIBUTORY_CAUSE                     0            0.000000\n",
       "SEC_CONTRIBUTORY_CAUSE                      0            0.000000\n",
       "DAMAGE                                      0            0.000000\n",
       "NUM_UNITS                                   0            0.000000\n",
       "CRASH_HOUR                                  0            0.000000\n",
       "CRASH_DAY_OF_WEEK                           0            0.000000\n",
       "CRASH_MONTH                                 0            0.000000"
      ]
     },
     "execution_count": 39,
     "metadata": {},
     "output_type": "execute_result"
    }
   ],
   "source": [
    "\n",
    "# Check for missing values in each column\n",
    "missing_values = df.isnull().sum()\n",
    "\n",
    "# Check for missing values in the whole DataFrame\n",
    "total_missing = missing_values.sum()\n",
    "missing_values_sorted = missing_values.sort_values(ascending=False)\n",
    "\n",
    "# Check the percentage of missing values for each column\n",
    "missing_percentage_sorted = (missing_values_sorted / len(df)) * 100\n",
    "\n",
    "# Create a DataFrame to summarize the completeness\n",
    "completeness_report = pd.DataFrame({\n",
    "    'Missing Values': missing_values_sorted,\n",
    "    'Missing Percentage': missing_percentage_sorted\n",
    "})\n",
    "\n",
    "completeness_report"
   ]
  },
  {
   "cell_type": "code",
   "execution_count": 41,
   "metadata": {},
   "outputs": [
    {
     "name": "stdout",
     "output_type": "stream",
     "text": [
      "Number of duplicate rows: 0\n"
     ]
    }
   ],
   "source": [
    "# Check for duplicate rows and count them\n",
    "\n",
    "def consistency_check_duplicated_instances(df):\n",
    "    duplicate_rows = df.duplicated().sum()\n",
    "    print(f\"Number of duplicate rows: {duplicate_rows}\")\n",
    "    # If you want to actually see the duplicate rows, you can use:\n",
    "    if duplicate_rows > 0:\n",
    "        print(df[df.duplicated(keep=False)].sort_values(by=df.columns.tolist()))\n",
    "\n",
    "consistency_check_duplicated_instances(df)"
   ]
  },
  {
   "cell_type": "code",
   "execution_count": 42,
   "metadata": {},
   "outputs": [
    {
     "data": {
      "text/html": [
       "<div>\n",
       "<style scoped>\n",
       "    .dataframe tbody tr th:only-of-type {\n",
       "        vertical-align: middle;\n",
       "    }\n",
       "\n",
       "    .dataframe tbody tr th {\n",
       "        vertical-align: top;\n",
       "    }\n",
       "\n",
       "    .dataframe thead th {\n",
       "        text-align: right;\n",
       "    }\n",
       "</style>\n",
       "<table border=\"1\" class=\"dataframe\">\n",
       "  <thead>\n",
       "    <tr style=\"text-align: right;\">\n",
       "      <th></th>\n",
       "      <th>0</th>\n",
       "    </tr>\n",
       "  </thead>\n",
       "  <tbody>\n",
       "    <tr>\n",
       "      <th>INJURIES_UNKNOWN</th>\n",
       "      <td>1</td>\n",
       "    </tr>\n",
       "  </tbody>\n",
       "</table>\n",
       "</div>"
      ],
      "text/plain": [
       "                  0\n",
       "INJURIES_UNKNOWN  1"
      ]
     },
     "execution_count": 42,
     "metadata": {},
     "output_type": "execute_result"
    }
   ],
   "source": [
    "# Irregular cardinality - Features with a cardinality of 1\n",
    "IRREGULAR_CARD_SINGLE = 1\n",
    "\n",
    "unique_counts = df.nunique()\n",
    "# for feature_name, count in unique_counts.items():\n",
    "#     if count == 1:\n",
    "#         print(f\"The feature '{feature_name}' has a unique count of 1 - Irregular Cardinality Issue\")\n",
    "unique_counts_single_threshold = unique_counts[unique_counts == IRREGULAR_CARD_SINGLE]\n",
    "pd.DataFrame(unique_counts_single_threshold)"
   ]
  },
  {
   "cell_type": "code",
   "execution_count": 44,
   "metadata": {},
   "outputs": [
    {
     "name": "stdout",
     "output_type": "stream",
     "text": [
      "Categorical Features with carinality higher than 10 cardinality are: ['CRASH_RECORD_ID', 'CRASH_DATE', 'TRAFFIC_CONTROL_DEVICE', 'WEATHER_CONDITION', 'FIRST_CRASH_TYPE', 'TRAFFICWAY_TYPE', 'DATE_POLICE_NOTIFIED', 'PRIM_CONTRIBUTORY_CAUSE', 'SEC_CONTRIBUTORY_CAUSE', 'STREET_NAME', 'LOCATION']\n"
     ]
    }
   ],
   "source": [
    "# Irregular cardinality - Too high cardinality for categorical features\n",
    "\n",
    "IRREGULAR_CARD_MAX_THRESHOLD = 10\n",
    "\n",
    "def get_unique_counts_exceed_max_threshold(df):\n",
    "    cardinality = df.select_dtypes(exclude=['number']).apply(lambda x: x.nunique())\n",
    "    high_cardinality_cols = cardinality[cardinality > IRREGULAR_CARD_MAX_THRESHOLD].index.tolist()\n",
    "    # print(\"High Cardinality Columns:\", high_cardinality_cols)\n",
    "    return high_cardinality_cols\n",
    "\n",
    "high_cardinality_cols = get_unique_counts_exceed_max_threshold(df)\n",
    "# Categorical Features with carinality higher than IRREGULAR_CARD_MAX_THRESHOLD\n",
    "print(f\"Categorical Features with carinality higher than {IRREGULAR_CARD_MAX_THRESHOLD} cardinality are: {high_cardinality_cols}\")"
   ]
  },
  {
   "cell_type": "code",
   "execution_count": 48,
   "metadata": {},
   "outputs": [
    {
     "name": "stdout",
     "output_type": "stream",
     "text": [
      "There are 4 outliers\n",
      "DataFrame Shape Before Removing Outliers (814788, 48)\n"
     ]
    }
   ],
   "source": [
    "# Outliers\n",
    "def outliers(df, ft):\n",
    "    Q1 = df[ft].quantile(0.25)\n",
    "    Q3 = df[ft].quantile(0.75)\n",
    "    IQR = Q3 - Q1\n",
    "    lower_bound = Q1 - 1.5 * IQR\n",
    "    upper_bound = Q3 + 1.5 * IQR\n",
    "    ls = df.index[ (df[ft] < lower_bound) | (df[ft] > upper_bound) ]\n",
    "    return ls\n",
    "\n",
    "index_list = []\n",
    "for feature in df.columns:\n",
    "    if pd.api.types.is_numeric_dtype(df[feature]):\n",
    "        index_list.extend(outliers(continuous_features_df, feature))\n",
    "\n",
    "def remove(df, ls):\n",
    "    ls = sorted(set(ls))\n",
    "    df = df.drop(ls)\n",
    "    return df\n",
    "\n",
    "print(f\"There are {len(set(index_list))} outliers\")\n",
    "print(f\"DataFrame Shape Before Removing Outliers {df.shape}\")\n",
    "# df_cleaned_after_outliers = remove(df_prepared, index_list)\n",
    "# print(f\"DataFrame Shape After  Removing Outliers {df_cleaned_after_outliers.shape}\")"
   ]
  },
  {
   "cell_type": "markdown",
   "metadata": {},
   "source": [
    "# 3. CRISP-DM: Data Preparation\n",
    "\n",
    "1. Missing Values - Drop or Imputation.\n",
    "2. Irregular Cardinality.\n",
    "3. Outliers - To remove instances.\n",
    "\n",
    "More details in each section."
   ]
  },
  {
   "cell_type": "markdown",
   "metadata": {},
   "source": [
    "# 4. CRISP-DM: Modeling\n",
    "\n",
    "bla bla bla"
   ]
  },
  {
   "cell_type": "markdown",
   "metadata": {},
   "source": [
    "# 5. CRISP-DM: Evaluation\n",
    "\n",
    "bla bla bla"
   ]
  },
  {
   "cell_type": "markdown",
   "metadata": {},
   "source": [
    "# 6. CRISP-DM: Deployment\n",
    "\n",
    "bla bla bla"
   ]
  }
 ],
 "metadata": {
  "kernelspec": {
   "display_name": "py311_pods_proj",
   "language": "python",
   "name": "python3"
  },
  "language_info": {
   "codemirror_mode": {
    "name": "ipython",
    "version": 3
   },
   "file_extension": ".py",
   "mimetype": "text/x-python",
   "name": "python",
   "nbconvert_exporter": "python",
   "pygments_lexer": "ipython3",
   "version": "3.11.8"
  }
 },
 "nbformat": 4,
 "nbformat_minor": 2
}
