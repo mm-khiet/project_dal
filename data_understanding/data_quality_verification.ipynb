{
 "cells": [
  {
   "cell_type": "code",
   "execution_count": 1,
   "metadata": {},
   "outputs": [
    {
     "name": "stderr",
     "output_type": "stream",
     "text": [
      "/var/folders/kr/b10wzmlx3rvd7q6_879fdf940000gn/T/ipykernel_85686/352247785.py:3: DeprecationWarning: \n",
      "Pyarrow will become a required dependency of pandas in the next major release of pandas (pandas 3.0),\n",
      "(to allow more performant data types, such as the Arrow string type, and better interoperability with other libraries)\n",
      "but was not found to be installed on your system.\n",
      "If this would cause problems for you,\n",
      "please provide us feedback at https://github.com/pandas-dev/pandas/issues/54466\n",
      "        \n",
      "  import pandas as pd\n"
     ]
    }
   ],
   "source": [
    "# Importing read_data from utilities.py in the misc folder\n",
    "# from ..misc.utilities import read_data\n",
    "import pandas as pd\n",
    "import numpy as np\n",
    "import matplotlib.pyplot as plt\n",
    "\n",
    "dataset_traffic = '/Users/fiyinolatunji/Downloads/project_dal/dataset/Traffic_Crashes.csv'\n",
    "data = pd.read_csv(dataset_traffic)"
   ]
  },
  {
   "cell_type": "markdown",
   "metadata": {},
   "source": [
    "##### Common ways to verify and ensure data quality:"
   ]
  },
  {
   "cell_type": "markdown",
   "metadata": {},
   "source": [
    "1. Checking for missing values"
   ]
  },
  {
   "cell_type": "code",
   "execution_count": 2,
   "metadata": {},
   "outputs": [
    {
     "name": "stdout",
     "output_type": "stream",
     "text": [
      "<class 'pandas.core.frame.DataFrame'>\n",
      "RangeIndex: 802064 entries, 0 to 802063\n",
      "Data columns (total 48 columns):\n",
      " #   Column                         Non-Null Count   Dtype  \n",
      "---  ------                         --------------   -----  \n",
      " 0   CRASH_RECORD_ID                802064 non-null  object \n",
      " 1   CRASH_DATE_EST_I               60087 non-null   object \n",
      " 2   CRASH_DATE                     802064 non-null  object \n",
      " 3   POSTED_SPEED_LIMIT             802064 non-null  int64  \n",
      " 4   TRAFFIC_CONTROL_DEVICE         802064 non-null  object \n",
      " 5   DEVICE_CONDITION               802064 non-null  object \n",
      " 6   WEATHER_CONDITION              802064 non-null  object \n",
      " 7   LIGHTING_CONDITION             802064 non-null  object \n",
      " 8   FIRST_CRASH_TYPE               802064 non-null  object \n",
      " 9   TRAFFICWAY_TYPE                802064 non-null  object \n",
      " 10  LANE_CNT                       199006 non-null  float64\n",
      " 11  ALIGNMENT                      802064 non-null  object \n",
      " 12  ROADWAY_SURFACE_COND           802064 non-null  object \n",
      " 13  ROAD_DEFECT                    802064 non-null  object \n",
      " 14  REPORT_TYPE                    778506 non-null  object \n",
      " 15  CRASH_TYPE                     802064 non-null  object \n",
      " 16  INTERSECTION_RELATED_I         183871 non-null  object \n",
      " 17  NOT_RIGHT_OF_WAY_I             37020 non-null   object \n",
      " 18  HIT_AND_RUN_I                  250800 non-null  object \n",
      " 19  DAMAGE                         802064 non-null  object \n",
      " 20  DATE_POLICE_NOTIFIED           802064 non-null  object \n",
      " 21  PRIM_CONTRIBUTORY_CAUSE        802064 non-null  object \n",
      " 22  SEC_CONTRIBUTORY_CAUSE         802064 non-null  object \n",
      " 23  STREET_NO                      802064 non-null  int64  \n",
      " 24  STREET_DIRECTION               802060 non-null  object \n",
      " 25  STREET_NAME                    802063 non-null  object \n",
      " 26  BEAT_OF_OCCURRENCE             802059 non-null  float64\n",
      " 27  PHOTOS_TAKEN_I                 10476 non-null   object \n",
      " 28  STATEMENTS_TAKEN_I             17745 non-null   object \n",
      " 29  DOORING_I                      2469 non-null    object \n",
      " 30  WORK_ZONE_I                    4624 non-null    object \n",
      " 31  WORK_ZONE_TYPE                 3588 non-null    object \n",
      " 32  WORKERS_PRESENT_I              1183 non-null    object \n",
      " 33  NUM_UNITS                      802064 non-null  int64  \n",
      " 34  MOST_SEVERE_INJURY             800297 non-null  object \n",
      " 35  INJURIES_TOTAL                 800309 non-null  float64\n",
      " 36  INJURIES_FATAL                 800309 non-null  float64\n",
      " 37  INJURIES_INCAPACITATING        800309 non-null  float64\n",
      " 38  INJURIES_NON_INCAPACITATING    800309 non-null  float64\n",
      " 39  INJURIES_REPORTED_NOT_EVIDENT  800309 non-null  float64\n",
      " 40  INJURIES_NO_INDICATION         800309 non-null  float64\n",
      " 41  INJURIES_UNKNOWN               800309 non-null  float64\n",
      " 42  CRASH_HOUR                     802064 non-null  int64  \n",
      " 43  CRASH_DAY_OF_WEEK              802064 non-null  int64  \n",
      " 44  CRASH_MONTH                    802064 non-null  int64  \n",
      " 45  LATITUDE                       796593 non-null  float64\n",
      " 46  LONGITUDE                      796593 non-null  float64\n",
      " 47  LOCATION                       796593 non-null  object \n",
      "dtypes: float64(11), int64(6), object(31)\n",
      "memory usage: 293.7+ MB\n"
     ]
    }
   ],
   "source": [
    "data.info()"
   ]
  },
  {
   "cell_type": "code",
   "execution_count": 3,
   "metadata": {},
   "outputs": [],
   "source": [
    "# print sum of missing values for each feature\n",
    "df = pd.DataFrame(data)\n",
    "missing_values = df.isna()"
   ]
  },
  {
   "cell_type": "code",
   "execution_count": 4,
   "metadata": {},
   "outputs": [
    {
     "name": "stdout",
     "output_type": "stream",
     "text": [
      "                               Missing Values  Percentage (%)\n",
      "CRASH_DATE_EST_I                       741977       92.508453\n",
      "LANE_CNT                               603058       75.188264\n",
      "REPORT_TYPE                             23558        2.937172\n",
      "INTERSECTION_RELATED_I                 618193       77.075271\n",
      "NOT_RIGHT_OF_WAY_I                     765044       95.384408\n",
      "HIT_AND_RUN_I                          551264       68.730675\n",
      "STREET_DIRECTION                            4        0.000499\n",
      "STREET_NAME                                 1        0.000125\n",
      "BEAT_OF_OCCURRENCE                          5        0.000623\n",
      "PHOTOS_TAKEN_I                         791588       98.693870\n",
      "STATEMENTS_TAKEN_I                     784319       97.787583\n",
      "DOORING_I                              799595       99.692169\n",
      "WORK_ZONE_I                            797440       99.423487\n",
      "WORK_ZONE_TYPE                         798476       99.552654\n",
      "WORKERS_PRESENT_I                      800881       99.852506\n",
      "MOST_SEVERE_INJURY                       1767        0.220307\n",
      "INJURIES_TOTAL                           1755        0.218810\n",
      "INJURIES_FATAL                           1755        0.218810\n",
      "INJURIES_INCAPACITATING                  1755        0.218810\n",
      "INJURIES_NON_INCAPACITATING              1755        0.218810\n",
      "INJURIES_REPORTED_NOT_EVIDENT            1755        0.218810\n",
      "INJURIES_NO_INDICATION                   1755        0.218810\n",
      "INJURIES_UNKNOWN                         1755        0.218810\n",
      "LATITUDE                                 5471        0.682115\n",
      "LONGITUDE                                5471        0.682115\n",
      "LOCATION                                 5471        0.682115\n"
     ]
    }
   ],
   "source": [
    "sum_missing_values = missing_values.sum()\n",
    "\n",
    "# Filter out the features that have missing values\n",
    "features_with_missing_values = sum_missing_values[sum_missing_values > 0]\n",
    "\n",
    "# Calculate the percentage of missing values for each feature\n",
    "percentage_missing = ( features_with_missing_values / len(df)) * 100\n",
    "\n",
    "\n",
    "# Create a DataFrame to display features with missing values, their missing percentages, and types\n",
    "missing_data_df = pd.DataFrame({   \n",
    "    'Missing Values': features_with_missing_values,\n",
    "    'Percentage (%)': percentage_missing.values,\n",
    "})\n",
    "print(missing_data_df)\n"
   ]
  },
  {
   "cell_type": "markdown",
   "metadata": {},
   "source": [
    "2. Check for duplicates and high-cardinality features"
   ]
  },
  {
   "cell_type": "code",
   "execution_count": 5,
   "metadata": {},
   "outputs": [
    {
     "name": "stdout",
     "output_type": "stream",
     "text": [
      "0\n"
     ]
    }
   ],
   "source": [
    "duplicates = df.duplicated()\n",
    "print(duplicates.sum())"
   ]
  },
  {
   "cell_type": "code",
   "execution_count": 6,
   "metadata": {},
   "outputs": [
    {
     "name": "stdout",
     "output_type": "stream",
     "text": [
      "High Cardinality Features: ['CRASH_RECORD_ID', 'CRASH_DATE', 'DATE_POLICE_NOTIFIED', 'STREET_NO', 'STREET_NAME', 'BEAT_OF_OCCURRENCE', 'LATITUDE', 'LONGITUDE', 'LOCATION']\n",
      "Low Cardinality Features: ['CRASH_DATE_EST_I', 'POSTED_SPEED_LIMIT', 'TRAFFIC_CONTROL_DEVICE', 'DEVICE_CONDITION', 'WEATHER_CONDITION', 'LIGHTING_CONDITION', 'FIRST_CRASH_TYPE', 'TRAFFICWAY_TYPE', 'LANE_CNT', 'ALIGNMENT', 'ROADWAY_SURFACE_COND', 'ROAD_DEFECT', 'REPORT_TYPE', 'CRASH_TYPE', 'INTERSECTION_RELATED_I', 'NOT_RIGHT_OF_WAY_I', 'HIT_AND_RUN_I', 'DAMAGE', 'PRIM_CONTRIBUTORY_CAUSE', 'SEC_CONTRIBUTORY_CAUSE', 'STREET_DIRECTION', 'PHOTOS_TAKEN_I', 'STATEMENTS_TAKEN_I', 'DOORING_I', 'WORK_ZONE_I', 'WORK_ZONE_TYPE', 'WORKERS_PRESENT_I', 'NUM_UNITS', 'MOST_SEVERE_INJURY', 'INJURIES_TOTAL', 'INJURIES_FATAL', 'INJURIES_INCAPACITATING', 'INJURIES_NON_INCAPACITATING', 'INJURIES_REPORTED_NOT_EVIDENT', 'INJURIES_NO_INDICATION', 'INJURIES_UNKNOWN', 'CRASH_HOUR', 'CRASH_DAY_OF_WEEK', 'CRASH_MONTH']\n"
     ]
    }
   ],
   "source": [
    "def determine_cardinality(df):\n",
    "    HIGH_CARDINALITY_THRESHOLD = 100 # This threshold can be adjusted as needed\n",
    "    high_cardinality_features = []\n",
    "    low_cardinality_features = []\n",
    "\n",
    "    for column in df.columns:\n",
    "        num_unique = df[column].nunique()\n",
    "        if num_unique > HIGH_CARDINALITY_THRESHOLD:  \n",
    "            high_cardinality_features.append(column)\n",
    "        else:\n",
    "            low_cardinality_features.append(column)\n",
    "\n",
    "    return high_cardinality_features, low_cardinality_features\n",
    "\n",
    "high_cardinality, low_cardinality = determine_cardinality(df) \n",
    "print(f'High Cardinality Features: {high_cardinality}')\n",
    "print(f'Low Cardinality Features: {low_cardinality}')"
   ]
  },
  {
   "cell_type": "markdown",
   "metadata": {},
   "source": [
    "3. Check for Outliers"
   ]
  },
  {
   "cell_type": "markdown",
   "metadata": {},
   "source": [
    "IQR is used because it is robust to outliers itself. It focuses on the range where the middle 50% of the data lie, making it less sensitive to extreme values compared to other methods like standard deviation."
   ]
  },
  {
   "cell_type": "code",
   "execution_count": 7,
   "metadata": {},
   "outputs": [
    {
     "data": {
      "text/html": [
       "<div>\n",
       "<style scoped>\n",
       "    .dataframe tbody tr th:only-of-type {\n",
       "        vertical-align: middle;\n",
       "    }\n",
       "\n",
       "    .dataframe tbody tr th {\n",
       "        vertical-align: top;\n",
       "    }\n",
       "\n",
       "    .dataframe thead th {\n",
       "        text-align: right;\n",
       "    }\n",
       "</style>\n",
       "<table border=\"1\" class=\"dataframe\">\n",
       "  <thead>\n",
       "    <tr style=\"text-align: right;\">\n",
       "      <th></th>\n",
       "      <th>outliers count</th>\n",
       "    </tr>\n",
       "  </thead>\n",
       "  <tbody>\n",
       "    <tr>\n",
       "      <th>POSTED_SPEED_LIMIT</th>\n",
       "      <td>211912</td>\n",
       "    </tr>\n",
       "    <tr>\n",
       "      <th>LANE_CNT</th>\n",
       "      <td>2385</td>\n",
       "    </tr>\n",
       "    <tr>\n",
       "      <th>STREET_NO</th>\n",
       "      <td>4479</td>\n",
       "    </tr>\n",
       "    <tr>\n",
       "      <th>BEAT_OF_OCCURRENCE</th>\n",
       "      <td>4</td>\n",
       "    </tr>\n",
       "    <tr>\n",
       "      <th>NUM_UNITS</th>\n",
       "      <td>100393</td>\n",
       "    </tr>\n",
       "    <tr>\n",
       "      <th>INJURIES_TOTAL</th>\n",
       "      <td>110074</td>\n",
       "    </tr>\n",
       "    <tr>\n",
       "      <th>INJURIES_FATAL</th>\n",
       "      <td>878</td>\n",
       "    </tr>\n",
       "    <tr>\n",
       "      <th>INJURIES_INCAPACITATING</th>\n",
       "      <td>13741</td>\n",
       "    </tr>\n",
       "    <tr>\n",
       "      <th>INJURIES_NON_INCAPACITATING</th>\n",
       "      <td>64624</td>\n",
       "    </tr>\n",
       "    <tr>\n",
       "      <th>INJURIES_REPORTED_NOT_EVIDENT</th>\n",
       "      <td>37248</td>\n",
       "    </tr>\n",
       "    <tr>\n",
       "      <th>INJURIES_NO_INDICATION</th>\n",
       "      <td>65128</td>\n",
       "    </tr>\n",
       "    <tr>\n",
       "      <th>LATITUDE</th>\n",
       "      <td>48</td>\n",
       "    </tr>\n",
       "    <tr>\n",
       "      <th>LONGITUDE</th>\n",
       "      <td>2106</td>\n",
       "    </tr>\n",
       "  </tbody>\n",
       "</table>\n",
       "</div>"
      ],
      "text/plain": [
       "                               outliers count\n",
       "POSTED_SPEED_LIMIT                     211912\n",
       "LANE_CNT                                 2385\n",
       "STREET_NO                                4479\n",
       "BEAT_OF_OCCURRENCE                          4\n",
       "NUM_UNITS                              100393\n",
       "INJURIES_TOTAL                         110074\n",
       "INJURIES_FATAL                            878\n",
       "INJURIES_INCAPACITATING                 13741\n",
       "INJURIES_NON_INCAPACITATING             64624\n",
       "INJURIES_REPORTED_NOT_EVIDENT           37248\n",
       "INJURIES_NO_INDICATION                  65128\n",
       "LATITUDE                                   48\n",
       "LONGITUDE                                2106"
      ]
     },
     "execution_count": 7,
     "metadata": {},
     "output_type": "execute_result"
    }
   ],
   "source": [
    "def detect_outliers_iqr(val):\n",
    "    # Calculate the first quartile (Q1) and third quartile (Q3)\n",
    "    Q1 = val.quantile(0.25)\n",
    "    Q3 = val.quantile(0.75)\n",
    "\n",
    "    #Calculate interquartile range (IQR)\n",
    "    IQR = Q3 -Q1\n",
    "\n",
    "    #Define lower and upper bounds for outlier detection\n",
    "    lowerbound = Q1 - 1.5 * IQR\n",
    "    upperbound = Q3 + 1.5 * IQR\n",
    "\n",
    "    # Identify outliers\n",
    "    outliers = ((val < lowerbound) | (val > upperbound))\n",
    "    return outliers.sum()\n",
    "# Apply the function to each numerical column in the DataFrame\n",
    "outlier_counts = df.select_dtypes(include=[np.number]).apply(detect_outliers_iqr)\n",
    "\n",
    "# Filter out columns without any outliers\n",
    "features_with_outliers = outlier_counts[outlier_counts > 0]\n",
    "\n",
    "pd.DataFrame(columns=['outliers count'],data=features_with_outliers)\n",
    "\n"
   ]
  },
  {
   "cell_type": "code",
   "execution_count": 8,
   "metadata": {},
   "outputs": [
    {
     "data": {
      "image/png": "[encoded data removed]",
      "text/plain": [
       "<Figure size 1600x800 with 1 Axes>"
      ]
     },
     "metadata": {},
     "output_type": "display_data"
    }
   ],
   "source": [
    "# Drawing a box plot\n",
    "plt.figure(figsize=(16, 8))\n",
    "plt.boxplot(features_with_outliers)\n",
    "plt.title('Box plot of data with outliers')\n",
    "plt.xlabel('Data')\n",
    "plt.ylabel('Values')\n",
    "plt.show()"
   ]
  },
  {
   "cell_type": "code",
   "execution_count": null,
   "metadata": {},
   "outputs": [],
   "source": []
  },
  {
   "cell_type": "code",
   "execution_count": null,
   "metadata": {},
   "outputs": [],
   "source": []
  }
 ],
 "metadata": {
  "kernelspec": {
   "display_name": "Python 3",
   "language": "python",
   "name": "python3"
  },
  "language_info": {
   "codemirror_mode": {
    "name": "ipython",
    "version": 3
   },
   "file_extension": ".py",
   "mimetype": "text/x-python",
   "name": "python",
   "nbconvert_exporter": "python",
   "pygments_lexer": "ipython3",
   "version": "3.11.7"
  }
 },
 "nbformat": 4,
 "nbformat_minor": 2
}
